{
 "cells": [
  {
   "cell_type": "code",
   "execution_count": 3,
   "id": "24d63c09-3d37-46b5-89d9-5caaf3730a23",
   "metadata": {},
   "outputs": [
    {
     "data": {
      "text/html": [
       "<div>\n",
       "<style scoped>\n",
       "    .dataframe tbody tr th:only-of-type {\n",
       "        vertical-align: middle;\n",
       "    }\n",
       "\n",
       "    .dataframe tbody tr th {\n",
       "        vertical-align: top;\n",
       "    }\n",
       "\n",
       "    .dataframe thead th {\n",
       "        text-align: right;\n",
       "    }\n",
       "</style>\n",
       "<table border=\"1\" class=\"dataframe\">\n",
       "  <thead>\n",
       "    <tr style=\"text-align: right;\">\n",
       "      <th></th>\n",
       "      <th>START_DATE*</th>\n",
       "      <th>END_DATE*</th>\n",
       "      <th>CATEGORY*</th>\n",
       "      <th>START*</th>\n",
       "      <th>STOP*</th>\n",
       "      <th>MILES*</th>\n",
       "      <th>PURPOSE*</th>\n",
       "    </tr>\n",
       "  </thead>\n",
       "  <tbody>\n",
       "    <tr>\n",
       "      <th>0</th>\n",
       "      <td>1/1/2016 21:11</td>\n",
       "      <td>1/1/2016 21:17</td>\n",
       "      <td>Business</td>\n",
       "      <td>Fort Pierce</td>\n",
       "      <td>Fort Pierce</td>\n",
       "      <td>5.1</td>\n",
       "      <td>Meal/Entertain</td>\n",
       "    </tr>\n",
       "    <tr>\n",
       "      <th>1</th>\n",
       "      <td>1/2/2016 1:25</td>\n",
       "      <td>1/2/2016 1:37</td>\n",
       "      <td>Business</td>\n",
       "      <td>Fort Pierce</td>\n",
       "      <td>Fort Pierce</td>\n",
       "      <td>5.0</td>\n",
       "      <td>NaN</td>\n",
       "    </tr>\n",
       "    <tr>\n",
       "      <th>2</th>\n",
       "      <td>1/2/2016 20:25</td>\n",
       "      <td>1/2/2016 20:38</td>\n",
       "      <td>Business</td>\n",
       "      <td>Fort Pierce</td>\n",
       "      <td>Fort Pierce</td>\n",
       "      <td>4.8</td>\n",
       "      <td>Errand/Supplies</td>\n",
       "    </tr>\n",
       "    <tr>\n",
       "      <th>3</th>\n",
       "      <td>1/5/2016 17:31</td>\n",
       "      <td>1/5/2016 17:45</td>\n",
       "      <td>Business</td>\n",
       "      <td>Fort Pierce</td>\n",
       "      <td>Fort Pierce</td>\n",
       "      <td>4.7</td>\n",
       "      <td>Meeting</td>\n",
       "    </tr>\n",
       "    <tr>\n",
       "      <th>4</th>\n",
       "      <td>1/6/2016 14:42</td>\n",
       "      <td>1/6/2016 15:49</td>\n",
       "      <td>Business</td>\n",
       "      <td>Fort Pierce</td>\n",
       "      <td>West Palm Beach</td>\n",
       "      <td>63.7</td>\n",
       "      <td>Customer Visit</td>\n",
       "    </tr>\n",
       "  </tbody>\n",
       "</table>\n",
       "</div>"
      ],
      "text/plain": [
       "      START_DATE*       END_DATE* CATEGORY*       START*            STOP*  \\\n",
       "0  1/1/2016 21:11  1/1/2016 21:17  Business  Fort Pierce      Fort Pierce   \n",
       "1   1/2/2016 1:25   1/2/2016 1:37  Business  Fort Pierce      Fort Pierce   \n",
       "2  1/2/2016 20:25  1/2/2016 20:38  Business  Fort Pierce      Fort Pierce   \n",
       "3  1/5/2016 17:31  1/5/2016 17:45  Business  Fort Pierce      Fort Pierce   \n",
       "4  1/6/2016 14:42  1/6/2016 15:49  Business  Fort Pierce  West Palm Beach   \n",
       "\n",
       "   MILES*         PURPOSE*  \n",
       "0     5.1   Meal/Entertain  \n",
       "1     5.0              NaN  \n",
       "2     4.8  Errand/Supplies  \n",
       "3     4.7          Meeting  \n",
       "4    63.7   Customer Visit  "
      ]
     },
     "execution_count": 3,
     "metadata": {},
     "output_type": "execute_result"
    }
   ],
   "source": [
    "import pandas as pd\n",
    "# Load dataset\n",
    "uber_data=pd.read_csv(\"Uber_Drives_2016.csv\")\n",
    "uber_data.head()"
   ]
  },
  {
   "cell_type": "code",
   "execution_count": 10,
   "id": "d0af81e1-5e38-41b1-8986-abf2aa19cfdd",
   "metadata": {},
   "outputs": [
    {
     "name": "stdout",
     "output_type": "stream",
     "text": [
      "(1156, 7)\n"
     ]
    }
   ],
   "source": [
    "# Display shape \n",
    "print(uber_data.shape)"
   ]
  },
  {
   "cell_type": "code",
   "execution_count": 9,
   "id": "a94b99d4-f040-45a7-bf5e-6c80ddefc0f6",
   "metadata": {},
   "outputs": [
    {
     "name": "stdout",
     "output_type": "stream",
     "text": [
      "['Business' 'Personal' nan]\n"
     ]
    }
   ],
   "source": [
    "# unique values in the CATEGORY column\n",
    "print(uber_data['CATEGORY*'].unique())"
   ]
  },
  {
   "cell_type": "code",
   "execution_count": 5,
   "id": "be1379f0-54af-48e5-bae0-c63ce67fa0d4",
   "metadata": {},
   "outputs": [
    {
     "name": "stdout",
     "output_type": "stream",
     "text": [
      "503\n"
     ]
    }
   ],
   "source": [
    "#find how many null values are there in PURPOSE\n",
    "print(uber_data['PURPOSE*'].isnull().sum())"
   ]
  },
  {
   "cell_type": "code",
   "execution_count": 20,
   "id": "05f56f33-f58b-4222-8f6e-1069885cb2ac",
   "metadata": {},
   "outputs": [
    {
     "name": "stdout",
     "output_type": "stream",
     "text": [
      "['START_DATE*', 'END_DATE*', 'CATEGORY*', 'START*', 'STOP*', 'MILES*', 'PURPOSE*']\n",
      "['START_DATE*', 'END_DATE*', 'CATEGORY*', 'START*', 'STOP*', 'MILES*', 'PURPOSE*']\n"
     ]
    }
   ],
   "source": [
    "# Rename\n",
    "print(list(uber_data.columns))\n",
    "uber_data.columns=uber_data.columns.str.upper()\n",
    "print(list(uber_data.columns))"
   ]
  },
  {
   "cell_type": "code",
   "execution_count": 21,
   "id": "066cec29-7637-4f42-942b-ada9badb17c6",
   "metadata": {},
   "outputs": [
    {
     "data": {
      "text/html": [
       "<div>\n",
       "<style scoped>\n",
       "    .dataframe tbody tr th:only-of-type {\n",
       "        vertical-align: middle;\n",
       "    }\n",
       "\n",
       "    .dataframe tbody tr th {\n",
       "        vertical-align: top;\n",
       "    }\n",
       "\n",
       "    .dataframe thead th {\n",
       "        text-align: right;\n",
       "    }\n",
       "</style>\n",
       "<table border=\"1\" class=\"dataframe\">\n",
       "  <thead>\n",
       "    <tr style=\"text-align: right;\">\n",
       "      <th></th>\n",
       "      <th>START_DATE*</th>\n",
       "      <th>END_DATE*</th>\n",
       "      <th>CATEGORY*</th>\n",
       "      <th>START*</th>\n",
       "      <th>STOP*</th>\n",
       "      <th>MILES*</th>\n",
       "      <th>PURPOSE*</th>\n",
       "    </tr>\n",
       "  </thead>\n",
       "  <tbody>\n",
       "    <tr>\n",
       "      <th>0</th>\n",
       "      <td>1/1/2016 21:11</td>\n",
       "      <td>1/1/2016 21:17</td>\n",
       "      <td>Business</td>\n",
       "      <td>Fort Pierce</td>\n",
       "      <td>Fort Pierce</td>\n",
       "      <td>5.1</td>\n",
       "      <td>Meal/Entertain</td>\n",
       "    </tr>\n",
       "    <tr>\n",
       "      <th>1</th>\n",
       "      <td>1/2/2016 1:25</td>\n",
       "      <td>1/2/2016 1:37</td>\n",
       "      <td>Business</td>\n",
       "      <td>Fort Pierce</td>\n",
       "      <td>Fort Pierce</td>\n",
       "      <td>5.0</td>\n",
       "      <td>NaN</td>\n",
       "    </tr>\n",
       "    <tr>\n",
       "      <th>2</th>\n",
       "      <td>1/2/2016 20:25</td>\n",
       "      <td>1/2/2016 20:38</td>\n",
       "      <td>Business</td>\n",
       "      <td>Fort Pierce</td>\n",
       "      <td>Fort Pierce</td>\n",
       "      <td>4.8</td>\n",
       "      <td>Errand/Supplies</td>\n",
       "    </tr>\n",
       "    <tr>\n",
       "      <th>3</th>\n",
       "      <td>1/5/2016 17:31</td>\n",
       "      <td>1/5/2016 17:45</td>\n",
       "      <td>Business</td>\n",
       "      <td>Fort Pierce</td>\n",
       "      <td>Fort Pierce</td>\n",
       "      <td>4.7</td>\n",
       "      <td>Meeting</td>\n",
       "    </tr>\n",
       "    <tr>\n",
       "      <th>4</th>\n",
       "      <td>1/6/2016 14:42</td>\n",
       "      <td>1/6/2016 15:49</td>\n",
       "      <td>Business</td>\n",
       "      <td>Fort Pierce</td>\n",
       "      <td>West Palm Beach</td>\n",
       "      <td>63.7</td>\n",
       "      <td>Customer Visit</td>\n",
       "    </tr>\n",
       "  </tbody>\n",
       "</table>\n",
       "</div>"
      ],
      "text/plain": [
       "      START_DATE*       END_DATE* CATEGORY*       START*            STOP*  \\\n",
       "0  1/1/2016 21:11  1/1/2016 21:17  Business  Fort Pierce      Fort Pierce   \n",
       "1   1/2/2016 1:25   1/2/2016 1:37  Business  Fort Pierce      Fort Pierce   \n",
       "2  1/2/2016 20:25  1/2/2016 20:38  Business  Fort Pierce      Fort Pierce   \n",
       "3  1/5/2016 17:31  1/5/2016 17:45  Business  Fort Pierce      Fort Pierce   \n",
       "4  1/6/2016 14:42  1/6/2016 15:49  Business  Fort Pierce  West Palm Beach   \n",
       "\n",
       "   MILES*         PURPOSE*  \n",
       "0     5.1   Meal/Entertain  \n",
       "1     5.0              NaN  \n",
       "2     4.8  Errand/Supplies  \n",
       "3     4.7          Meeting  \n",
       "4    63.7   Customer Visit  "
      ]
     },
     "execution_count": 21,
     "metadata": {},
     "output_type": "execute_result"
    }
   ],
   "source": [
    "#Display Rides Where CATEGORY == 'Business'\n",
    "business_rides = uber_data[uber_data['CATEGORY*'] == 'Business']\n",
    "business_rides.head()"
   ]
  },
  {
   "cell_type": "code",
   "execution_count": 4,
   "id": "f483d38a-a7e2-4eff-bd1f-ea22f4e45456",
   "metadata": {},
   "outputs": [
    {
     "name": "stdout",
     "output_type": "stream",
     "text": [
      "           START_DATE*         END_DATE* CATEGORY*            START*  \\\n",
      "1155            Totals               NaN       NaN               NaN   \n",
      "269    3/25/2016 16:52   3/25/2016 22:22  Business             Latta   \n",
      "270    3/25/2016 22:54    3/26/2016 1:39  Business      Jacksonville   \n",
      "881   10/30/2016 15:22  10/30/2016 18:23  Business         Asheville   \n",
      "776    9/27/2016 21:01    9/28/2016 2:37  Business  Unknown Location   \n",
      "\n",
      "                 STOP*   MILES*        PURPOSE*  \n",
      "1155               NaN  12204.7             NaN  \n",
      "269       Jacksonville    310.3  Customer Visit  \n",
      "270          Kissimmee    201.0         Meeting  \n",
      "881             Mebane    195.9             NaN  \n",
      "776   Unknown Location    195.6             NaN  \n"
     ]
    }
   ],
   "source": [
    "#Show top 5 rides with the longest distance (MILES).\n",
    "print(uber_data.sort_values(by='MILES*', ascending=False).head(5))"
   ]
  },
  {
   "cell_type": "code",
   "execution_count": null,
   "id": "ab45cc43-74c6-4a2b-aba8-b8a783a33999",
   "metadata": {},
   "outputs": [],
   "source": [
    "uber_data['PURPOSE*'] = uber_data['PURPOSE*'].fillna('Not Specified')"
   ]
  },
  {
   "cell_type": "code",
   "execution_count": null,
   "id": "6c0b46ac-e7a8-4dd4-a80a-ba41b79877b1",
   "metadata": {},
   "outputs": [
    {
     "name": "stdout",
     "output_type": "stream",
     "text": [
      "Index(['START_DATE*', 'END_DATE*', 'CATEGORY*', 'START*', 'STOP*', 'MILES*',\n",
      "       'PURPOSE*'],\n",
      "      dtype='object')\n"
     ]
    }
   ],
   "source": [
    "print(uber_data.columns)"
   ]
  },
  {
   "cell_type": "code",
   "execution_count": 17,
   "id": "f2a0f544-d082-4404-a755-384d666e980f",
   "metadata": {},
   "outputs": [],
   "source": [
    "uber_data['START_DATE*'] = pd.to_datetime(uber_data['START_DATE*'])# Convert START_DATE and END_DATE to datetime format\n",
    "\n",
    "uber_data['END_DATE*'] = pd.to_datetime(uber_data['END_DATE*'])"
   ]
  },
  {
   "cell_type": "code",
   "execution_count": 18,
   "id": "81bf85c3-c636-4e13-a3f4-6a6b9b3e03fb",
   "metadata": {},
   "outputs": [],
   "source": [
    "uber_data['TRIP_DURATION'] = uber_data['END_DATE*'] - uber_data['START_DATE*'] # Create TRIP_DURATION column"
   ]
  },
  {
   "cell_type": "code",
   "execution_count": 19,
   "id": "5ddfbf81-3a30-4e14-a5be-973a9a7da560",
   "metadata": {},
   "outputs": [
    {
     "name": "stdout",
     "output_type": "stream",
     "text": [
      "START_DATE*    1\n",
      "END_DATE*      1\n",
      "dtype: int64\n"
     ]
    }
   ],
   "source": [
    "print(uber_data[['START_DATE*', 'END_DATE*']].isnull().sum()) # Display the updated DataFrame\n"
   ]
  },
  {
   "cell_type": "code",
   "execution_count": null,
   "id": "ce828893-aa81-4f7b-a57b-065208f01ada",
   "metadata": {},
   "outputs": [
    {
     "name": "stdout",
     "output_type": "stream",
     "text": [
      "             START_DATE*           END_DATE* CATEGORY*            START*  \\\n",
      "1155                 NaT                 NaT       NaN               NaN   \n",
      "269  2016-03-25 16:52:00 2016-03-25 22:22:00  Business             Latta   \n",
      "270  2016-03-25 22:54:00 2016-03-26 01:39:00  Business      Jacksonville   \n",
      "881  2016-10-30 15:22:00 2016-10-30 18:23:00  Business         Asheville   \n",
      "776  2016-09-27 21:01:00 2016-09-28 02:37:00  Business  Unknown Location   \n",
      "...                  ...                 ...       ...               ...   \n",
      "1111 2016-12-25 00:10:00 2016-12-25 00:14:00  Business            Lahore   \n",
      "516  2016-07-05 16:48:00 2016-07-05 16:52:00  Business       Whitebridge   \n",
      "420  2016-06-08 17:16:00 2016-06-08 17:18:00  Business              Soho   \n",
      "120  2016-02-17 16:38:00 2016-02-17 16:43:00  Business        Katunayaka   \n",
      "44   2016-01-26 17:27:00 2016-01-26 17:29:00  Business              Cary   \n",
      "\n",
      "                 STOP*   MILES*         PURPOSE*   TRIP_DURATION  \n",
      "1155               NaN  12204.7    Not Specified             NaT  \n",
      "269       Jacksonville    310.3   Customer Visit 0 days 05:30:00  \n",
      "270          Kissimmee    201.0          Meeting 0 days 02:45:00  \n",
      "881             Mebane    195.9    Not Specified 0 days 03:01:00  \n",
      "776   Unknown Location    195.6    Not Specified 0 days 05:36:00  \n",
      "...                ...      ...              ...             ...  \n",
      "1111            Lahore      0.6  Errand/Supplies 0 days 00:04:00  \n",
      "516        Whitebridge      0.6  Errand/Supplies 0 days 00:04:00  \n",
      "420            Tribeca      0.5  Errand/Supplies 0 days 00:02:00  \n",
      "120         Katunayaka      0.5  Errand/Supplies 0 days 00:05:00  \n",
      "44                Cary      0.5  Errand/Supplies 0 days 00:02:00  \n",
      "\n",
      "[1156 rows x 8 columns]\n"
     ]
    }
   ],
   "source": [
    "sorted_trips = uber_data.sort_values(by='MILES*', ascending=False)\n",
    "print(sorted_trips)"
   ]
  },
  {
   "cell_type": "code",
   "execution_count": null,
   "id": "e39a47fb-88cd-4da5-9cb7-286dfeb6c123",
   "metadata": {},
   "outputs": [
    {
     "name": "stdout",
     "output_type": "stream",
     "text": [
      "CATEGORY*\n",
      "Business    10.655844\n",
      "Personal     9.320779\n",
      "Name: MILES*, dtype: float64\n"
     ]
    }
   ],
   "source": [
    "average_miles = uber_data.groupby('CATEGORY*')['MILES*'].mean()\n",
    "print(average_miles)"
   ]
  },
  {
   "cell_type": "code",
   "execution_count": null,
   "id": "259a1f62-aae9-4535-8729-31a1e4e40ad9",
   "metadata": {},
   "outputs": [
    {
     "name": "stdout",
     "output_type": "stream",
     "text": [
      "PURPOSE*\n",
      "Not Specified      503\n",
      "Meeting            187\n",
      "Meal/Entertain     160\n",
      "Errand/Supplies    128\n",
      "Customer Visit     101\n",
      "Temporary Site      50\n",
      "Between Offices     18\n",
      "Moving               4\n",
      "Airport/Travel       3\n",
      "Commute              1\n",
      "Charity ($)          1\n",
      "Name: count, dtype: int64\n"
     ]
    }
   ],
   "source": [
    "trip_counts = uber_data['PURPOSE*'].value_counts()\n",
    "print(trip_counts)"
   ]
  },
  {
   "cell_type": "code",
   "execution_count": null,
   "id": "fd824be7-6256-47ea-be10-f6e77a6efdeb",
   "metadata": {},
   "outputs": [
    {
     "name": "stdout",
     "output_type": "stream",
     "text": [
      "START*\n",
      "Cary                201\n",
      "Unknown Location    148\n",
      "Morrisville          85\n",
      "Name: count, dtype: int64\n"
     ]
    }
   ],
   "source": [
    "top_locations = uber_data['START*'].value_counts().head(3)\n",
    "print(top_locations)"
   ]
  },
  {
   "cell_type": "code",
   "execution_count": null,
   "id": "151872a2-ed5a-46ed-902c-61a9d48f15f7",
   "metadata": {},
   "outputs": [
    {
     "data": {
      "image/png": "[encoded data removed]",
      "text/plain": [
       "<Figure size 800x500 with 1 Axes>"
      ]
     },
     "metadata": {},
     "output_type": "display_data"
    }
   ],
   "source": [
    "import matplotlib.pyplot as plt )\n",
    "\n",
    "average_miles = uber_data.groupby('CATEGORY*')['MILES*'].mean().sort_values()\n",
    "# bar chart \n",
    "plt.figure(figsize=(8, 5))\n",
    "average_miles.plot(kind='bar', color='skyblue', edgecolor='black')\n",
    "plt.title('Average Miles per Category')\n",
    "plt.xlabel('Category')\n",
    "plt.ylabel('Average Miles')\n",
    "plt.xticks(rotation=45)\n",
    "plt.tight_layout()\n",
    "plt.show()"
   ]
  },
  {
   "cell_type": "code",
   "execution_count": null,
   "id": "b99e3445-55ff-4109-bcfd-2c6b52ab4839",
   "metadata": {},
   "outputs": [
    {
     "data": {
      "image/png": "[encoded data removed]",
      "text/plain": [
       "<Figure size 800x600 with 1 Axes>"
      ]
     },
     "metadata": {},
     "output_type": "display_data"
    }
   ],
   "source": [
    "# Counting the trips by purpose\n",
    "purpose_counts = uber_data['PURPOSE*'].value_counts()\n",
    "# Plotting for pie chart \n",
    "plt.figure(figsize=(8, 6))\n",
    "plt.pie(purpose_counts, labels=purpose_counts.index, autopct='%1.1f%%', startangle=140, colors=plt.cm.Paired.colors)\n",
    "plt.title('Trip Purpose Distribution')\n",
    "plt.axis('equal') \n",
    "plt.tight_layout()\n",
    "plt.show()\n"
   ]
  },
  {
   "cell_type": "code",
   "execution_count": null,
   "id": "da5e1c7c-d3d9-486f-b273-c5c53c6a336d",
   "metadata": {},
   "outputs": [],
   "source": []
  }
 ],
 "metadata": {
  "kernelspec": {
   "display_name": "Python [conda env:base] *",
   "language": "python",
   "name": "conda-base-py"
  },
  "language_info": {
   "codemirror_mode": {
    "name": "ipython",
    "version": 3
   },
   "file_extension": ".py",
   "mimetype": "text/x-python",
   "name": "python",
   "nbconvert_exporter": "python",
   "pygments_lexer": "ipython3",
   "version": "3.13.5"
  }
 },
 "nbformat": 4,
 "nbformat_minor": 5
}
